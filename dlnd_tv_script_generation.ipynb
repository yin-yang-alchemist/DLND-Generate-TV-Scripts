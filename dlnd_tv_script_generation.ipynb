{
 "cells": [
  {
   "cell_type": "markdown",
   "metadata": {
    "deletable": true,
    "editable": true
   },
   "source": [
    "# TV Script Generation\n",
    "In this project, you'll generate your own [Simpsons](https://en.wikipedia.org/wiki/The_Simpsons) TV scripts using RNNs.  You'll be using part of the [Simpsons dataset](https://www.kaggle.com/wcukierski/the-simpsons-by-the-data) of scripts from 27 seasons.  The Neural Network you'll build will generate a new TV script for a scene at [Moe's Tavern](https://simpsonswiki.com/wiki/Moe's_Tavern).\n",
    "## Get the Data\n",
    "The data is already provided for you.  You'll be using a subset of the original dataset.  It consists of only the scenes in Moe's Tavern.  This doesn't include other versions of the tavern, like \"Moe's Cavern\", \"Flaming Moe's\", \"Uncle Moe's Family Feed-Bag\", etc.."
   ]
  },
  {
   "cell_type": "code",
   "execution_count": 1,
   "metadata": {
    "collapsed": true,
    "deletable": true,
    "editable": true
   },
   "outputs": [],
   "source": [
    "\"\"\"\n",
    "DON'T MODIFY ANYTHING IN THIS CELL\n",
    "\"\"\"\n",
    "import helper\n",
    "\n",
    "data_dir = './data/simpsons/moes_tavern_lines.txt'\n",
    "text = helper.load_data(data_dir)\n",
    "# Ignore notice, since we don't use it for analysing the data\n",
    "text = text[81:]"
   ]
  },
  {
   "cell_type": "markdown",
   "metadata": {
    "deletable": true,
    "editable": true
   },
   "source": [
    "## Explore the Data\n",
    "Play around with `view_sentence_range` to view different parts of the data."
   ]
  },
  {
   "cell_type": "code",
   "execution_count": 2,
   "metadata": {
    "collapsed": false,
    "deletable": true,
    "editable": true
   },
   "outputs": [
    {
     "name": "stdout",
     "output_type": "stream",
     "text": [
      "Dataset Stats\n",
      "Roughly the number of unique words: 11492\n",
      "Number of scenes: 262\n",
      "Average number of sentences in each scene: 15.248091603053435\n",
      "Number of lines: 4257\n",
      "Average number of words in each line: 11.50434578341555\n",
      "\n",
      "The sentences 0 to 10:\n",
      "Moe_Szyslak: (INTO PHONE) Moe's Tavern. Where the elite meet to drink.\n",
      "Bart_Simpson: Eh, yeah, hello, is Mike there? Last name, Rotch.\n",
      "Moe_Szyslak: (INTO PHONE) Hold on, I'll check. (TO BARFLIES) Mike Rotch. Mike Rotch. Hey, has anybody seen Mike Rotch, lately?\n",
      "Moe_Szyslak: (INTO PHONE) Listen you little puke. One of these days I'm gonna catch you, and I'm gonna carve my name on your back with an ice pick.\n",
      "Moe_Szyslak: What's the matter Homer? You're not your normal effervescent self.\n",
      "Homer_Simpson: I got my problems, Moe. Give me another one.\n",
      "Moe_Szyslak: Homer, hey, you should not drink to forget your problems.\n",
      "Barney_Gumble: Yeah, you should only drink to enhance your social skills.\n",
      "\n",
      "\n"
     ]
    }
   ],
   "source": [
    "view_sentence_range = (0, 10)\n",
    "\n",
    "\"\"\"\n",
    "DON'T MODIFY ANYTHING IN THIS CELL\n",
    "\"\"\"\n",
    "import numpy as np\n",
    "\n",
    "print('Dataset Stats')\n",
    "print('Roughly the number of unique words: {}'.format(len({word: None for word in text.split()})))\n",
    "scenes = text.split('\\n\\n')\n",
    "print('Number of scenes: {}'.format(len(scenes)))\n",
    "sentence_count_scene = [scene.count('\\n') for scene in scenes]\n",
    "print('Average number of sentences in each scene: {}'.format(np.average(sentence_count_scene)))\n",
    "\n",
    "sentences = [sentence for scene in scenes for sentence in scene.split('\\n')]\n",
    "print('Number of lines: {}'.format(len(sentences)))\n",
    "word_count_sentence = [len(sentence.split()) for sentence in sentences]\n",
    "print('Average number of words in each line: {}'.format(np.average(word_count_sentence)))\n",
    "\n",
    "print()\n",
    "print('The sentences {} to {}:'.format(*view_sentence_range))\n",
    "print('\\n'.join(text.split('\\n')[view_sentence_range[0]:view_sentence_range[1]]))"
   ]
  },
  {
   "cell_type": "markdown",
   "metadata": {
    "deletable": true,
    "editable": true
   },
   "source": [
    "## Implement Preprocessing Functions\n",
    "The first thing to do to any dataset is preprocessing.  Implement the following preprocessing functions below:\n",
    "- Lookup Table\n",
    "- Tokenize Punctuation\n",
    "\n",
    "### Lookup Table\n",
    "To create a word embedding, you first need to transform the words to ids.  In this function, create two dictionaries:\n",
    "- Dictionary to go from the words to an id, we'll call `vocab_to_int`\n",
    "- Dictionary to go from the id to word, we'll call `int_to_vocab`\n",
    "\n",
    "Return these dictionaries in the following tuple `(vocab_to_int, int_to_vocab)`"
   ]
  },
  {
   "cell_type": "code",
   "execution_count": 3,
   "metadata": {
    "collapsed": false,
    "deletable": true,
    "editable": true
   },
   "outputs": [
    {
     "name": "stdout",
     "output_type": "stream",
     "text": [
      "Tests Passed\n"
     ]
    }
   ],
   "source": [
    "import numpy as np\n",
    "import problem_unittests as tests\n",
    "\n",
    "def create_lookup_tables(text):\n",
    "    \"\"\"\n",
    "    Create lookup tables for vocabulary\n",
    "    :param text: The text of tv scripts split into words\n",
    "    :return: A tuple of dicts (vocab_to_int, int_to_vocab)\n",
    "    \"\"\"\n",
    "    # TODO: Implement Function\n",
    "    words = set(text)\n",
    "    vocab_to_int = {word: i for i, word in enumerate(words)}\n",
    "    int_to_vocab = {i: word for i, word in enumerate(words)}\n",
    "    return vocab_to_int, int_to_vocab\n",
    "\n",
    "\n",
    "\"\"\"\n",
    "DON'T MODIFY ANYTHING IN THIS CELL THAT IS BELOW THIS LINE\n",
    "\"\"\"\n",
    "tests.test_create_lookup_tables(create_lookup_tables)"
   ]
  },
  {
   "cell_type": "markdown",
   "metadata": {
    "deletable": true,
    "editable": true
   },
   "source": [
    "### Tokenize Punctuation\n",
    "We'll be splitting the script into a word array using spaces as delimiters.  However, punctuations like periods and exclamation marks make it hard for the neural network to distinguish between the word \"bye\" and \"bye!\".\n",
    "\n",
    "Implement the function `token_lookup` to return a dict that will be used to tokenize symbols like \"!\" into \"||Exclamation_Mark||\".  Create a dictionary for the following symbols where the symbol is the key and value is the token:\n",
    "- Period ( . )\n",
    "- Comma ( , )\n",
    "- Quotation Mark ( \" )\n",
    "- Semicolon ( ; )\n",
    "- Exclamation mark ( ! )\n",
    "- Question mark ( ? )\n",
    "- Left Parentheses ( ( )\n",
    "- Right Parentheses ( ) )\n",
    "- Dash ( -- )\n",
    "- Return ( \\n )\n",
    "\n",
    "This dictionary will be used to token the symbols and add the delimiter (space) around it.  This separates the symbols as it's own word, making it easier for the neural network to predict on the next word. Make sure you don't use a token that could be confused as a word. Instead of using the token \"dash\", try using something like \"||dash||\"."
   ]
  },
  {
   "cell_type": "code",
   "execution_count": 4,
   "metadata": {
    "collapsed": false,
    "deletable": true,
    "editable": true
   },
   "outputs": [
    {
     "name": "stdout",
     "output_type": "stream",
     "text": [
      "Tests Passed\n"
     ]
    }
   ],
   "source": [
    "def token_lookup():\n",
    "    \"\"\"\n",
    "    Generate a dict to turn punctuation into a token.\n",
    "    :return: Tokenize dictionary where the key is the punctuation and the value is the token\n",
    "    \"\"\"\n",
    "    # TODO: Implement Function\n",
    "    token_dic = {\n",
    "        '.': '||period||',\n",
    "        ',': '||comma||',\n",
    "        '\"': '||quotation_mark||',\n",
    "        ';': '||semicolon||',\n",
    "        '!': '||exclamation_mark||',\n",
    "        '?': '||question_mark||',\n",
    "        '(': '||left_parentheses||',\n",
    "        ')': '||right_parentheses||',\n",
    "        '--': '||dash||',\n",
    "        '\\n': '||return||'\n",
    "    }\n",
    "    return token_dic\n",
    "\n",
    "\"\"\"\n",
    "DON'T MODIFY ANYTHING IN THIS CELL THAT IS BELOW THIS LINE\n",
    "\"\"\"\n",
    "tests.test_tokenize(token_lookup)"
   ]
  },
  {
   "cell_type": "markdown",
   "metadata": {
    "deletable": true,
    "editable": true
   },
   "source": [
    "## Preprocess all the data and save it\n",
    "Running the code cell below will preprocess all the data and save it to file."
   ]
  },
  {
   "cell_type": "code",
   "execution_count": 5,
   "metadata": {
    "collapsed": true,
    "deletable": true,
    "editable": true
   },
   "outputs": [],
   "source": [
    "\"\"\"\n",
    "DON'T MODIFY ANYTHING IN THIS CELL\n",
    "\"\"\"\n",
    "# Preprocess Training, Validation, and Testing Data\n",
    "helper.preprocess_and_save_data(data_dir, token_lookup, create_lookup_tables)"
   ]
  },
  {
   "cell_type": "markdown",
   "metadata": {
    "deletable": true,
    "editable": true
   },
   "source": [
    "# Check Point\n",
    "This is your first checkpoint. If you ever decide to come back to this notebook or have to restart the notebook, you can start from here. The preprocessed data has been saved to disk."
   ]
  },
  {
   "cell_type": "code",
   "execution_count": 6,
   "metadata": {
    "collapsed": true,
    "deletable": true,
    "editable": true
   },
   "outputs": [],
   "source": [
    "\"\"\"\n",
    "DON'T MODIFY ANYTHING IN THIS CELL\n",
    "\"\"\"\n",
    "import helper\n",
    "import numpy as np\n",
    "import problem_unittests as tests\n",
    "\n",
    "int_text, vocab_to_int, int_to_vocab, token_dict = helper.load_preprocess()"
   ]
  },
  {
   "cell_type": "markdown",
   "metadata": {
    "deletable": true,
    "editable": true
   },
   "source": [
    "## Build the Neural Network\n",
    "You'll build the components necessary to build a RNN by implementing the following functions below:\n",
    "- get_inputs\n",
    "- get_init_cell\n",
    "- get_embed\n",
    "- build_rnn\n",
    "- build_nn\n",
    "- get_batches\n",
    "\n",
    "### Check the Version of TensorFlow and Access to GPU"
   ]
  },
  {
   "cell_type": "code",
   "execution_count": 7,
   "metadata": {
    "collapsed": false,
    "deletable": true,
    "editable": true
   },
   "outputs": [
    {
     "name": "stdout",
     "output_type": "stream",
     "text": [
      "TensorFlow Version: 1.0.0\n",
      "Default GPU Device: /gpu:0\n"
     ]
    }
   ],
   "source": [
    "\"\"\"\n",
    "DON'T MODIFY ANYTHING IN THIS CELL\n",
    "\"\"\"\n",
    "from distutils.version import LooseVersion\n",
    "import warnings\n",
    "import tensorflow as tf\n",
    "\n",
    "# Check TensorFlow Version\n",
    "assert LooseVersion(tf.__version__) >= LooseVersion('1.0'), 'Please use TensorFlow version 1.0 or newer'\n",
    "print('TensorFlow Version: {}'.format(tf.__version__))\n",
    "\n",
    "# Check for a GPU\n",
    "if not tf.test.gpu_device_name():\n",
    "    warnings.warn('No GPU found. Please use a GPU to train your neural network.')\n",
    "else:\n",
    "    print('Default GPU Device: {}'.format(tf.test.gpu_device_name()))"
   ]
  },
  {
   "cell_type": "markdown",
   "metadata": {
    "deletable": true,
    "editable": true
   },
   "source": [
    "### Input\n",
    "Implement the `get_inputs()` function to create TF Placeholders for the Neural Network.  It should create the following placeholders:\n",
    "- Input text placeholder named \"input\" using the [TF Placeholder](https://www.tensorflow.org/api_docs/python/tf/placeholder) `name` parameter.\n",
    "- Targets placeholder\n",
    "- Learning Rate placeholder\n",
    "\n",
    "Return the placeholders in the following tuple `(Input, Targets, LearningRate)`"
   ]
  },
  {
   "cell_type": "code",
   "execution_count": 8,
   "metadata": {
    "collapsed": false,
    "deletable": true,
    "editable": true
   },
   "outputs": [
    {
     "name": "stdout",
     "output_type": "stream",
     "text": [
      "Tests Passed\n"
     ]
    }
   ],
   "source": [
    "def get_inputs():\n",
    "    \"\"\"\n",
    "    Create TF Placeholders for input, targets, and learning rate.\n",
    "    :return: Tuple (input, targets, learning rate)\n",
    "    \"\"\"\n",
    "    # TODO: Implement Function\n",
    "    input_ = tf.placeholder(tf.int32, [None, None], name='input')\n",
    "    targets = tf.placeholder(tf.int32, [None, None], name='targets')\n",
    "    learning_rate = tf.placeholder(tf.float32, name='learning_rate')\n",
    "    return input_, targets, learning_rate\n",
    "\n",
    "\n",
    "\"\"\"\n",
    "DON'T MODIFY ANYTHING IN THIS CELL THAT IS BELOW THIS LINE\n",
    "\"\"\"\n",
    "tests.test_get_inputs(get_inputs)"
   ]
  },
  {
   "cell_type": "markdown",
   "metadata": {
    "deletable": true,
    "editable": true
   },
   "source": [
    "### Build RNN Cell and Initialize\n",
    "Stack one or more [`BasicLSTMCells`](https://www.tensorflow.org/api_docs/python/tf/contrib/rnn/BasicLSTMCell) in a [`MultiRNNCell`](https://www.tensorflow.org/api_docs/python/tf/contrib/rnn/MultiRNNCell).\n",
    "- The Rnn size should be set using `rnn_size`\n",
    "- Initalize Cell State using the MultiRNNCell's [`zero_state()`](https://www.tensorflow.org/api_docs/python/tf/contrib/rnn/MultiRNNCell#zero_state) function\n",
    "    - Apply the name \"initial_state\" to the initial state using [`tf.identity()`](https://www.tensorflow.org/api_docs/python/tf/identity)\n",
    "\n",
    "Return the cell and initial state in the following tuple `(Cell, InitialState)`"
   ]
  },
  {
   "cell_type": "code",
   "execution_count": 9,
   "metadata": {
    "collapsed": false,
    "deletable": true,
    "editable": true
   },
   "outputs": [
    {
     "name": "stdout",
     "output_type": "stream",
     "text": [
      "Tests Passed\n"
     ]
    }
   ],
   "source": [
    "def get_init_cell(batch_size, rnn_size):\n",
    "    \"\"\"\n",
    "    Create an RNN Cell and initialize it.\n",
    "    :param batch_size: Size of batches\n",
    "    :param rnn_size: Size of RNNs\n",
    "    :return: Tuple (cell, initialize state)\n",
    "    \"\"\"\n",
    "    # TODO: Implement Function\n",
    "    lstm = tf.contrib.rnn.BasicLSTMCell(rnn_size)\n",
    "    cell = tf.contrib.rnn.MultiRNNCell([lstm])\n",
    "    initial_state = cell.zero_state(batch_size, tf.float32)\n",
    "    initial_state = tf.identity(initial_state, name='initial_state')\n",
    "    return cell, initial_state\n",
    "\n",
    "\n",
    "\"\"\"\n",
    "DON'T MODIFY ANYTHING IN THIS CELL THAT IS BELOW THIS LINE\n",
    "\"\"\"\n",
    "tests.test_get_init_cell(get_init_cell)"
   ]
  },
  {
   "cell_type": "markdown",
   "metadata": {
    "deletable": true,
    "editable": true
   },
   "source": [
    "### Word Embedding\n",
    "Apply embedding to `input_data` using TensorFlow.  Return the embedded sequence."
   ]
  },
  {
   "cell_type": "code",
   "execution_count": 10,
   "metadata": {
    "collapsed": false,
    "deletable": true,
    "editable": true
   },
   "outputs": [
    {
     "name": "stdout",
     "output_type": "stream",
     "text": [
      "Tests Passed\n"
     ]
    }
   ],
   "source": [
    "def get_embed(input_data, vocab_size, embed_dim):\n",
    "    \"\"\"\n",
    "    Create embedding for <input_data>.\n",
    "    :param input_data: TF placeholder for text input.\n",
    "    :param vocab_size: Number of words in vocabulary.\n",
    "    :param embed_dim: Number of embedding dimensions\n",
    "    :return: Embedded input.\n",
    "    \"\"\"\n",
    "    # TODO: Implement Function\n",
    "    embedding_matrix = tf.Variable(tf.random_uniform([vocab_size, embed_dim], -1, 1))\n",
    "    embedded_data = tf.nn.embedding_lookup(embedding_matrix, input_data)\n",
    "    return embedded_data\n",
    "\n",
    "\n",
    "\"\"\"\n",
    "DON'T MODIFY ANYTHING IN THIS CELL THAT IS BELOW THIS LINE\n",
    "\"\"\"\n",
    "tests.test_get_embed(get_embed)"
   ]
  },
  {
   "cell_type": "markdown",
   "metadata": {
    "deletable": true,
    "editable": true
   },
   "source": [
    "### Build RNN\n",
    "You created a RNN Cell in the `get_init_cell()` function.  Time to use the cell to create a RNN.\n",
    "- Build the RNN using the [`tf.nn.dynamic_rnn()`](https://www.tensorflow.org/api_docs/python/tf/nn/dynamic_rnn)\n",
    " - Apply the name \"final_state\" to the final state using [`tf.identity()`](https://www.tensorflow.org/api_docs/python/tf/identity)\n",
    "\n",
    "Return the outputs and final_state state in the following tuple `(Outputs, FinalState)` "
   ]
  },
  {
   "cell_type": "code",
   "execution_count": 11,
   "metadata": {
    "collapsed": false,
    "deletable": true,
    "editable": true
   },
   "outputs": [
    {
     "name": "stdout",
     "output_type": "stream",
     "text": [
      "Tests Passed\n"
     ]
    }
   ],
   "source": [
    "def build_rnn(cell, inputs):\n",
    "    \"\"\"\n",
    "    Create a RNN using a RNN Cell\n",
    "    :param cell: RNN Cell\n",
    "    :param inputs: Input text data\n",
    "    :return: Tuple (Outputs, Final State)\n",
    "    \"\"\"\n",
    "    # TODO: Implement Function\n",
    "    outputs, final_state = tf.nn.dynamic_rnn(cell, inputs, dtype=tf.float32)\n",
    "    final_state = tf.identity(final_state, name='final_state')\n",
    "    return outputs, final_state\n",
    "\n",
    "\n",
    "\"\"\"\n",
    "DON'T MODIFY ANYTHING IN THIS CELL THAT IS BELOW THIS LINE\n",
    "\"\"\"\n",
    "tests.test_build_rnn(build_rnn)"
   ]
  },
  {
   "cell_type": "markdown",
   "metadata": {
    "deletable": true,
    "editable": true
   },
   "source": [
    "### Build the Neural Network\n",
    "Apply the functions you implemented above to:\n",
    "- Apply embedding to `input_data` using your `get_embed(input_data, vocab_size, embed_dim)` function.\n",
    "- Build RNN using `cell` and your `build_rnn(cell, inputs)` function.\n",
    "- Apply a fully connected layer with a linear activation and `vocab_size` as the number of outputs.\n",
    "\n",
    "Return the logits and final state in the following tuple (Logits, FinalState) "
   ]
  },
  {
   "cell_type": "code",
   "execution_count": 12,
   "metadata": {
    "collapsed": false,
    "deletable": true,
    "editable": true
   },
   "outputs": [
    {
     "name": "stdout",
     "output_type": "stream",
     "text": [
      "Tests Passed\n"
     ]
    }
   ],
   "source": [
    "def build_nn(cell, rnn_size, input_data, vocab_size, embed_dim):\n",
    "    \"\"\"\n",
    "    Build part of the neural network\n",
    "    :param cell: RNN cell\n",
    "    :param rnn_size: Size of rnns\n",
    "    :param input_data: Input data\n",
    "    :param vocab_size: Vocabulary size\n",
    "    :param embed_dim: Number of embedding dimensions\n",
    "    :return: Tuple (Logits, FinalState)\n",
    "    \"\"\"\n",
    "    # TODO: Implement Function\n",
    "    embedded_data = get_embed(input_data, vocab_size, embed_dim)\n",
    "    outputs, final_state = build_rnn(cell, embedded_data)\n",
    "    logits = tf.contrib.layers.fully_connected(outputs, vocab_size, activation_fn=None)\n",
    "    return logits, final_state\n",
    "\n",
    "\n",
    "\"\"\"\n",
    "DON'T MODIFY ANYTHING IN THIS CELL THAT IS BELOW THIS LINE\n",
    "\"\"\"\n",
    "tests.test_build_nn(build_nn)"
   ]
  },
  {
   "cell_type": "markdown",
   "metadata": {
    "deletable": true,
    "editable": true
   },
   "source": [
    "### Batches\n",
    "Implement `get_batches` to create batches of input and targets using `int_text`.  The batches should be a Numpy array with the shape `(number of batches, 2, batch size, sequence length)`. Each batch contains two elements:\n",
    "- The first element is a single batch of **input** with the shape `[batch size, sequence length]`\n",
    "- The second element is a single batch of **targets** with the shape `[batch size, sequence length]`\n",
    "\n",
    "If you can't fill the last batch with enough data, drop the last batch.\n",
    "\n",
    "For exmple, `get_batches([1, 2, 3, 4, 5, 6, 7, 8, 9, 10, 11, 12, 13, 14, 15, 16, 17, 18, 19, 20], 3, 2)` would return a Numpy array of the following:\n",
    "```\n",
    "[\n",
    "  # First Batch\n",
    "  [\n",
    "    # Batch of Input\n",
    "    [[ 1  2], [ 7  8], [13 14]]\n",
    "    # Batch of targets\n",
    "    [[ 2  3], [ 8  9], [14 15]]\n",
    "  ]\n",
    "\n",
    "  # Second Batch\n",
    "  [\n",
    "    # Batch of Input\n",
    "    [[ 3  4], [ 9 10], [15 16]]\n",
    "    # Batch of targets\n",
    "    [[ 4  5], [10 11], [16 17]]\n",
    "  ]\n",
    "\n",
    "  # Third Batch\n",
    "  [\n",
    "    # Batch of Input\n",
    "    [[ 5  6], [11 12], [17 18]]\n",
    "    # Batch of targets\n",
    "    [[ 6  7], [12 13], [18  1]]\n",
    "  ]\n",
    "]\n",
    "```\n",
    "\n",
    "Notice that the last target value in the last batch is the first input value of the first batch. In this case, `1`. This is a common technique used when creating sequence batches, although it is rather unintuitive."
   ]
  },
  {
   "cell_type": "code",
   "execution_count": 13,
   "metadata": {
    "collapsed": false,
    "deletable": true,
    "editable": true,
    "scrolled": true
   },
   "outputs": [
    {
     "name": "stdout",
     "output_type": "stream",
     "text": [
      "Tests Passed\n"
     ]
    }
   ],
   "source": [
    "def get_batches(int_text, batch_size, seq_length):\n",
    "    \"\"\"\n",
    "    Return batches of input and target\n",
    "    :param int_text: Text with the words replaced by their ids\n",
    "    :param batch_size: The size of batch\n",
    "    :param seq_length: The length of sequence\n",
    "    :return: Batches as a Numpy array\n",
    "    \"\"\"\n",
    "    # TODO: Implement Function\n",
    "    characters_per_batch = batch_size * seq_length\n",
    "    n_batches = len(int_text) // characters_per_batch\n",
    "    \n",
    "    # batch_size * (n_batches * seq_length) array\n",
    "    input_arr = np.array(int_text[:characters_per_batch * n_batches])\n",
    "    input_arr = input_arr.reshape((batch_size, -1))\n",
    "    target_arr = np.array(int_text[1:characters_per_batch * n_batches + 1])\n",
    "    target_arr[-1] = int_text[0]\n",
    "    target_arr = target_arr.reshape((batch_size, -1))\n",
    "    \n",
    "    # list of (batch_size * seq_length) arrays\n",
    "    input_batches = np.hsplit(input_arr, n_batches)\n",
    "    target_batches = np.hsplit(target_arr, n_batches)\n",
    "    \n",
    "    batches = []\n",
    "    for input_batch, target_batch in zip(input_batches, target_batches):\n",
    "        batch = np.array([input_batch, target_batch])\n",
    "        batches.append(batch)\n",
    "    batches = np.array(batches)\n",
    "    return batches\n",
    "\n",
    "\n",
    "\"\"\"\n",
    "DON'T MODIFY ANYTHING IN THIS CELL THAT IS BELOW THIS LINE\n",
    "\"\"\"\n",
    "tests.test_get_batches(get_batches)"
   ]
  },
  {
   "cell_type": "markdown",
   "metadata": {
    "deletable": true,
    "editable": true
   },
   "source": [
    "## Neural Network Training\n",
    "### Hyperparameters\n",
    "Tune the following parameters:\n",
    "\n",
    "- Set `num_epochs` to the number of epochs.\n",
    "- Set `batch_size` to the batch size.\n",
    "- Set `rnn_size` to the size of the RNNs.\n",
    "- Set `embed_dim` to the size of the embedding.\n",
    "- Set `seq_length` to the length of sequence.\n",
    "- Set `learning_rate` to the learning rate.\n",
    "- Set `show_every_n_batches` to the number of batches the neural network should print progress."
   ]
  },
  {
   "cell_type": "code",
   "execution_count": 17,
   "metadata": {
    "collapsed": true,
    "deletable": true,
    "editable": true
   },
   "outputs": [],
   "source": [
    "# Number of Epochs\n",
    "num_epochs = 100\n",
    "# Batch Size\n",
    "batch_size = 32\n",
    "# RNN Size\n",
    "rnn_size = 256\n",
    "# Embedding Dimension Size\n",
    "embed_dim = 256\n",
    "# Sequence Length\n",
    "seq_length = 100\n",
    "# Learning Rate\n",
    "learning_rate = 0.01\n",
    "# Show stats for every n number of batches\n",
    "show_every_n_batches = 10\n",
    "\n",
    "\"\"\"\n",
    "DON'T MODIFY ANYTHING IN THIS CELL THAT IS BELOW THIS LINE\n",
    "\"\"\"\n",
    "save_dir = './save'"
   ]
  },
  {
   "cell_type": "markdown",
   "metadata": {
    "deletable": true,
    "editable": true
   },
   "source": [
    "### Build the Graph\n",
    "Build the graph using the neural network you implemented."
   ]
  },
  {
   "cell_type": "code",
   "execution_count": 18,
   "metadata": {
    "collapsed": false,
    "deletable": true,
    "editable": true
   },
   "outputs": [],
   "source": [
    "\"\"\"\n",
    "DON'T MODIFY ANYTHING IN THIS CELL\n",
    "\"\"\"\n",
    "from tensorflow.contrib import seq2seq\n",
    "\n",
    "train_graph = tf.Graph()\n",
    "with train_graph.as_default():\n",
    "    vocab_size = len(int_to_vocab)\n",
    "    input_text, targets, lr = get_inputs()\n",
    "    input_data_shape = tf.shape(input_text)\n",
    "    cell, initial_state = get_init_cell(input_data_shape[0], rnn_size)\n",
    "    logits, final_state = build_nn(cell, rnn_size, input_text, vocab_size, embed_dim)\n",
    "\n",
    "    # Probabilities for generating words\n",
    "    probs = tf.nn.softmax(logits, name='probs')\n",
    "\n",
    "    # Loss function\n",
    "    cost = seq2seq.sequence_loss(\n",
    "        logits,\n",
    "        targets,\n",
    "        tf.ones([input_data_shape[0], input_data_shape[1]]))\n",
    "\n",
    "    # Optimizer\n",
    "    optimizer = tf.train.AdamOptimizer(lr)\n",
    "\n",
    "    # Gradient Clipping\n",
    "    gradients = optimizer.compute_gradients(cost)\n",
    "    capped_gradients = [(tf.clip_by_value(grad, -1., 1.), var) for grad, var in gradients if grad is not None]\n",
    "    train_op = optimizer.apply_gradients(capped_gradients)"
   ]
  },
  {
   "cell_type": "markdown",
   "metadata": {
    "deletable": true,
    "editable": true
   },
   "source": [
    "## Train\n",
    "Train the neural network on the preprocessed data.  If you have a hard time getting a good loss, check the [forums](https://discussions.udacity.com/) to see if anyone is having the same problem."
   ]
  },
  {
   "cell_type": "code",
   "execution_count": 19,
   "metadata": {
    "collapsed": false,
    "deletable": true,
    "editable": true,
    "scrolled": false
   },
   "outputs": [
    {
     "name": "stdout",
     "output_type": "stream",
     "text": [
      "Epoch   0 Batch    0/21   train_loss = 8.823\n",
      "Epoch   0 Batch   10/21   train_loss = 6.092\n",
      "Epoch   0 Batch   20/21   train_loss = 5.667\n",
      "Epoch   1 Batch    9/21   train_loss = 5.190\n",
      "Epoch   1 Batch   19/21   train_loss = 4.985\n",
      "Epoch   2 Batch    8/21   train_loss = 4.644\n",
      "Epoch   2 Batch   18/21   train_loss = 4.474\n",
      "Epoch   3 Batch    7/21   train_loss = 4.342\n",
      "Epoch   3 Batch   17/21   train_loss = 4.138\n",
      "Epoch   4 Batch    6/21   train_loss = 3.971\n",
      "Epoch   4 Batch   16/21   train_loss = 3.940\n",
      "Epoch   5 Batch    5/21   train_loss = 3.678\n",
      "Epoch   5 Batch   15/21   train_loss = 3.517\n",
      "Epoch   6 Batch    4/21   train_loss = 3.383\n",
      "Epoch   6 Batch   14/21   train_loss = 3.141\n",
      "Epoch   7 Batch    3/21   train_loss = 3.144\n",
      "Epoch   7 Batch   13/21   train_loss = 3.005\n",
      "Epoch   8 Batch    2/21   train_loss = 2.863\n",
      "Epoch   8 Batch   12/21   train_loss = 2.793\n",
      "Epoch   9 Batch    1/21   train_loss = 2.741\n",
      "Epoch   9 Batch   11/21   train_loss = 2.689\n",
      "Epoch  10 Batch    0/21   train_loss = 2.581\n",
      "Epoch  10 Batch   10/21   train_loss = 2.460\n",
      "Epoch  10 Batch   20/21   train_loss = 2.443\n",
      "Epoch  11 Batch    9/21   train_loss = 2.334\n",
      "Epoch  11 Batch   19/21   train_loss = 2.262\n",
      "Epoch  12 Batch    8/21   train_loss = 2.303\n",
      "Epoch  12 Batch   18/21   train_loss = 2.104\n",
      "Epoch  13 Batch    7/21   train_loss = 2.037\n",
      "Epoch  13 Batch   17/21   train_loss = 2.044\n",
      "Epoch  14 Batch    6/21   train_loss = 1.963\n",
      "Epoch  14 Batch   16/21   train_loss = 1.895\n",
      "Epoch  15 Batch    5/21   train_loss = 1.847\n",
      "Epoch  15 Batch   15/21   train_loss = 1.794\n",
      "Epoch  16 Batch    4/21   train_loss = 1.773\n",
      "Epoch  16 Batch   14/21   train_loss = 1.689\n",
      "Epoch  17 Batch    3/21   train_loss = 1.637\n",
      "Epoch  17 Batch   13/21   train_loss = 1.579\n",
      "Epoch  18 Batch    2/21   train_loss = 1.539\n",
      "Epoch  18 Batch   12/21   train_loss = 1.543\n",
      "Epoch  19 Batch    1/21   train_loss = 1.439\n",
      "Epoch  19 Batch   11/21   train_loss = 1.488\n",
      "Epoch  20 Batch    0/21   train_loss = 1.378\n",
      "Epoch  20 Batch   10/21   train_loss = 1.365\n",
      "Epoch  20 Batch   20/21   train_loss = 1.323\n",
      "Epoch  21 Batch    9/21   train_loss = 1.279\n",
      "Epoch  21 Batch   19/21   train_loss = 1.242\n",
      "Epoch  22 Batch    8/21   train_loss = 1.266\n",
      "Epoch  22 Batch   18/21   train_loss = 1.183\n",
      "Epoch  23 Batch    7/21   train_loss = 1.081\n",
      "Epoch  23 Batch   17/21   train_loss = 1.153\n",
      "Epoch  24 Batch    6/21   train_loss = 1.130\n",
      "Epoch  24 Batch   16/21   train_loss = 1.073\n",
      "Epoch  25 Batch    5/21   train_loss = 1.146\n",
      "Epoch  25 Batch   15/21   train_loss = 1.038\n",
      "Epoch  26 Batch    4/21   train_loss = 1.052\n",
      "Epoch  26 Batch   14/21   train_loss = 0.953\n",
      "Epoch  27 Batch    3/21   train_loss = 0.968\n",
      "Epoch  27 Batch   13/21   train_loss = 0.906\n",
      "Epoch  28 Batch    2/21   train_loss = 0.921\n",
      "Epoch  28 Batch   12/21   train_loss = 0.904\n",
      "Epoch  29 Batch    1/21   train_loss = 0.776\n",
      "Epoch  29 Batch   11/21   train_loss = 0.802\n",
      "Epoch  30 Batch    0/21   train_loss = 0.724\n",
      "Epoch  30 Batch   10/21   train_loss = 0.725\n",
      "Epoch  30 Batch   20/21   train_loss = 0.668\n",
      "Epoch  31 Batch    9/21   train_loss = 0.657\n",
      "Epoch  31 Batch   19/21   train_loss = 0.570\n",
      "Epoch  32 Batch    8/21   train_loss = 0.636\n",
      "Epoch  32 Batch   18/21   train_loss = 0.584\n",
      "Epoch  33 Batch    7/21   train_loss = 0.528\n",
      "Epoch  33 Batch   17/21   train_loss = 0.551\n",
      "Epoch  34 Batch    6/21   train_loss = 0.547\n",
      "Epoch  34 Batch   16/21   train_loss = 0.447\n",
      "Epoch  35 Batch    5/21   train_loss = 0.529\n",
      "Epoch  35 Batch   15/21   train_loss = 0.497\n",
      "Epoch  36 Batch    4/21   train_loss = 0.498\n",
      "Epoch  36 Batch   14/21   train_loss = 0.456\n",
      "Epoch  37 Batch    3/21   train_loss = 0.456\n",
      "Epoch  37 Batch   13/21   train_loss = 0.434\n",
      "Epoch  38 Batch    2/21   train_loss = 0.482\n",
      "Epoch  38 Batch   12/21   train_loss = 0.491\n",
      "Epoch  39 Batch    1/21   train_loss = 0.409\n",
      "Epoch  39 Batch   11/21   train_loss = 0.436\n",
      "Epoch  40 Batch    0/21   train_loss = 0.375\n",
      "Epoch  40 Batch   10/21   train_loss = 0.380\n",
      "Epoch  40 Batch   20/21   train_loss = 0.368\n",
      "Epoch  41 Batch    9/21   train_loss = 0.372\n",
      "Epoch  41 Batch   19/21   train_loss = 0.298\n",
      "Epoch  42 Batch    8/21   train_loss = 0.346\n",
      "Epoch  42 Batch   18/21   train_loss = 0.312\n",
      "Epoch  43 Batch    7/21   train_loss = 0.267\n",
      "Epoch  43 Batch   17/21   train_loss = 0.294\n",
      "Epoch  44 Batch    6/21   train_loss = 0.297\n",
      "Epoch  44 Batch   16/21   train_loss = 0.215\n",
      "Epoch  45 Batch    5/21   train_loss = 0.258\n",
      "Epoch  45 Batch   15/21   train_loss = 0.257\n",
      "Epoch  46 Batch    4/21   train_loss = 0.253\n",
      "Epoch  46 Batch   14/21   train_loss = 0.209\n",
      "Epoch  47 Batch    3/21   train_loss = 0.201\n",
      "Epoch  47 Batch   13/21   train_loss = 0.194\n",
      "Epoch  48 Batch    2/21   train_loss = 0.232\n",
      "Epoch  48 Batch   12/21   train_loss = 0.223\n",
      "Epoch  49 Batch    1/21   train_loss = 0.167\n",
      "Epoch  49 Batch   11/21   train_loss = 0.183\n",
      "Epoch  50 Batch    0/21   train_loss = 0.162\n",
      "Epoch  50 Batch   10/21   train_loss = 0.169\n",
      "Epoch  50 Batch   20/21   train_loss = 0.148\n",
      "Epoch  51 Batch    9/21   train_loss = 0.161\n",
      "Epoch  51 Batch   19/21   train_loss = 0.119\n",
      "Epoch  52 Batch    8/21   train_loss = 0.144\n",
      "Epoch  52 Batch   18/21   train_loss = 0.135\n",
      "Epoch  53 Batch    7/21   train_loss = 0.126\n",
      "Epoch  53 Batch   17/21   train_loss = 0.141\n",
      "Epoch  54 Batch    6/21   train_loss = 0.146\n",
      "Epoch  54 Batch   16/21   train_loss = 0.108\n",
      "Epoch  55 Batch    5/21   train_loss = 0.141\n",
      "Epoch  55 Batch   15/21   train_loss = 0.137\n",
      "Epoch  56 Batch    4/21   train_loss = 0.146\n",
      "Epoch  56 Batch   14/21   train_loss = 0.119\n",
      "Epoch  57 Batch    3/21   train_loss = 0.124\n",
      "Epoch  57 Batch   13/21   train_loss = 0.121\n",
      "Epoch  58 Batch    2/21   train_loss = 0.142\n",
      "Epoch  58 Batch   12/21   train_loss = 0.151\n",
      "Epoch  59 Batch    1/21   train_loss = 0.131\n",
      "Epoch  59 Batch   11/21   train_loss = 0.154\n",
      "Epoch  60 Batch    0/21   train_loss = 0.138\n",
      "Epoch  60 Batch   10/21   train_loss = 0.146\n",
      "Epoch  60 Batch   20/21   train_loss = 0.135\n",
      "Epoch  61 Batch    9/21   train_loss = 0.143\n",
      "Epoch  61 Batch   19/21   train_loss = 0.135\n",
      "Epoch  62 Batch    8/21   train_loss = 0.165\n",
      "Epoch  62 Batch   18/21   train_loss = 0.186\n",
      "Epoch  63 Batch    7/21   train_loss = 0.188\n",
      "Epoch  63 Batch   17/21   train_loss = 0.213\n",
      "Epoch  64 Batch    6/21   train_loss = 0.232\n",
      "Epoch  64 Batch   16/21   train_loss = 0.223\n",
      "Epoch  65 Batch    5/21   train_loss = 0.301\n",
      "Epoch  65 Batch   15/21   train_loss = 0.311\n",
      "Epoch  66 Batch    4/21   train_loss = 0.336\n",
      "Epoch  66 Batch   14/21   train_loss = 0.376\n",
      "Epoch  67 Batch    3/21   train_loss = 0.437\n",
      "Epoch  67 Batch   13/21   train_loss = 0.451\n",
      "Epoch  68 Batch    2/21   train_loss = 0.523\n",
      "Epoch  68 Batch   12/21   train_loss = 0.551\n",
      "Epoch  69 Batch    1/21   train_loss = 0.523\n",
      "Epoch  69 Batch   11/21   train_loss = 0.562\n",
      "Epoch  70 Batch    0/21   train_loss = 0.504\n",
      "Epoch  70 Batch   10/21   train_loss = 0.533\n",
      "Epoch  70 Batch   20/21   train_loss = 0.472\n",
      "Epoch  71 Batch    9/21   train_loss = 0.446\n",
      "Epoch  71 Batch   19/21   train_loss = 0.385\n",
      "Epoch  72 Batch    8/21   train_loss = 0.377\n",
      "Epoch  72 Batch   18/21   train_loss = 0.361\n",
      "Epoch  73 Batch    7/21   train_loss = 0.292\n",
      "Epoch  73 Batch   17/21   train_loss = 0.297\n",
      "Epoch  74 Batch    6/21   train_loss = 0.240\n",
      "Epoch  74 Batch   16/21   train_loss = 0.187\n",
      "Epoch  75 Batch    5/21   train_loss = 0.201\n",
      "Epoch  75 Batch   15/21   train_loss = 0.160\n",
      "Epoch  76 Batch    4/21   train_loss = 0.157\n",
      "Epoch  76 Batch   14/21   train_loss = 0.109\n",
      "Epoch  77 Batch    3/21   train_loss = 0.100\n",
      "Epoch  77 Batch   13/21   train_loss = 0.085\n",
      "Epoch  78 Batch    2/21   train_loss = 0.092\n",
      "Epoch  78 Batch   12/21   train_loss = 0.081\n",
      "Epoch  79 Batch    1/21   train_loss = 0.058\n",
      "Epoch  79 Batch   11/21   train_loss = 0.064\n",
      "Epoch  80 Batch    0/21   train_loss = 0.053\n",
      "Epoch  80 Batch   10/21   train_loss = 0.051\n",
      "Epoch  80 Batch   20/21   train_loss = 0.047\n",
      "Epoch  81 Batch    9/21   train_loss = 0.048\n",
      "Epoch  81 Batch   19/21   train_loss = 0.039\n",
      "Epoch  82 Batch    8/21   train_loss = 0.044\n",
      "Epoch  82 Batch   18/21   train_loss = 0.048\n",
      "Epoch  83 Batch    7/21   train_loss = 0.038\n",
      "Epoch  83 Batch   17/21   train_loss = 0.043\n",
      "Epoch  84 Batch    6/21   train_loss = 0.036\n",
      "Epoch  84 Batch   16/21   train_loss = 0.029\n",
      "Epoch  85 Batch    5/21   train_loss = 0.039\n",
      "Epoch  85 Batch   15/21   train_loss = 0.031\n",
      "Epoch  86 Batch    4/21   train_loss = 0.033\n",
      "Epoch  86 Batch   14/21   train_loss = 0.027\n",
      "Epoch  87 Batch    3/21   train_loss = 0.027\n",
      "Epoch  87 Batch   13/21   train_loss = 0.028\n",
      "Epoch  88 Batch    2/21   train_loss = 0.034\n",
      "Epoch  88 Batch   12/21   train_loss = 0.032\n",
      "Epoch  89 Batch    1/21   train_loss = 0.023\n",
      "Epoch  89 Batch   11/21   train_loss = 0.034\n",
      "Epoch  90 Batch    0/21   train_loss = 0.031\n",
      "Epoch  90 Batch   10/21   train_loss = 0.028\n",
      "Epoch  90 Batch   20/21   train_loss = 0.024\n",
      "Epoch  91 Batch    9/21   train_loss = 0.026\n",
      "Epoch  91 Batch   19/21   train_loss = 0.025\n",
      "Epoch  92 Batch    8/21   train_loss = 0.030\n",
      "Epoch  92 Batch   18/21   train_loss = 0.033\n",
      "Epoch  93 Batch    7/21   train_loss = 0.028\n",
      "Epoch  93 Batch   17/21   train_loss = 0.031\n",
      "Epoch  94 Batch    6/21   train_loss = 0.025\n",
      "Epoch  94 Batch   16/21   train_loss = 0.022\n",
      "Epoch  95 Batch    5/21   train_loss = 0.031\n",
      "Epoch  95 Batch   15/21   train_loss = 0.024\n",
      "Epoch  96 Batch    4/21   train_loss = 0.026\n",
      "Epoch  96 Batch   14/21   train_loss = 0.022\n",
      "Epoch  97 Batch    3/21   train_loss = 0.022\n",
      "Epoch  97 Batch   13/21   train_loss = 0.023\n",
      "Epoch  98 Batch    2/21   train_loss = 0.028\n",
      "Epoch  98 Batch   12/21   train_loss = 0.027\n",
      "Epoch  99 Batch    1/21   train_loss = 0.019\n",
      "Epoch  99 Batch   11/21   train_loss = 0.030\n",
      "Model Trained and Saved\n"
     ]
    }
   ],
   "source": [
    "\"\"\"\n",
    "DON'T MODIFY ANYTHING IN THIS CELL\n",
    "\"\"\"\n",
    "batches = get_batches(int_text, batch_size, seq_length)\n",
    "\n",
    "with tf.Session(graph=train_graph) as sess:\n",
    "    sess.run(tf.global_variables_initializer())\n",
    "\n",
    "    for epoch_i in range(num_epochs):\n",
    "        state = sess.run(initial_state, {input_text: batches[0][0]})\n",
    "\n",
    "        for batch_i, (x, y) in enumerate(batches):\n",
    "            feed = {\n",
    "                input_text: x,\n",
    "                targets: y,\n",
    "                initial_state: state,\n",
    "                lr: learning_rate}\n",
    "            train_loss, state, _ = sess.run([cost, final_state, train_op], feed)\n",
    "\n",
    "            # Show every <show_every_n_batches> batches\n",
    "            if (epoch_i * len(batches) + batch_i) % show_every_n_batches == 0:\n",
    "                print('Epoch {:>3} Batch {:>4}/{}   train_loss = {:.3f}'.format(\n",
    "                    epoch_i,\n",
    "                    batch_i,\n",
    "                    len(batches),\n",
    "                    train_loss))\n",
    "\n",
    "    # Save Model\n",
    "    saver = tf.train.Saver()\n",
    "    saver.save(sess, save_dir)\n",
    "    print('Model Trained and Saved')"
   ]
  },
  {
   "cell_type": "markdown",
   "metadata": {
    "deletable": true,
    "editable": true
   },
   "source": [
    "## Save Parameters\n",
    "Save `seq_length` and `save_dir` for generating a new TV script."
   ]
  },
  {
   "cell_type": "code",
   "execution_count": 20,
   "metadata": {
    "collapsed": true,
    "deletable": true,
    "editable": true
   },
   "outputs": [],
   "source": [
    "\"\"\"\n",
    "DON'T MODIFY ANYTHING IN THIS CELL\n",
    "\"\"\"\n",
    "# Save parameters for checkpoint\n",
    "helper.save_params((seq_length, save_dir))"
   ]
  },
  {
   "cell_type": "markdown",
   "metadata": {
    "deletable": true,
    "editable": true
   },
   "source": [
    "# Checkpoint"
   ]
  },
  {
   "cell_type": "code",
   "execution_count": 21,
   "metadata": {
    "collapsed": true,
    "deletable": true,
    "editable": true
   },
   "outputs": [],
   "source": [
    "\"\"\"\n",
    "DON'T MODIFY ANYTHING IN THIS CELL\n",
    "\"\"\"\n",
    "import tensorflow as tf\n",
    "import numpy as np\n",
    "import helper\n",
    "import problem_unittests as tests\n",
    "\n",
    "_, vocab_to_int, int_to_vocab, token_dict = helper.load_preprocess()\n",
    "seq_length, load_dir = helper.load_params()"
   ]
  },
  {
   "cell_type": "markdown",
   "metadata": {
    "deletable": true,
    "editable": true
   },
   "source": [
    "## Implement Generate Functions\n",
    "### Get Tensors\n",
    "Get tensors from `loaded_graph` using the function [`get_tensor_by_name()`](https://www.tensorflow.org/api_docs/python/tf/Graph#get_tensor_by_name).  Get the tensors using the following names:\n",
    "- \"input:0\"\n",
    "- \"initial_state:0\"\n",
    "- \"final_state:0\"\n",
    "- \"probs:0\"\n",
    "\n",
    "Return the tensors in the following tuple `(InputTensor, InitialStateTensor, FinalStateTensor, ProbsTensor)` "
   ]
  },
  {
   "cell_type": "code",
   "execution_count": 22,
   "metadata": {
    "collapsed": false,
    "deletable": true,
    "editable": true
   },
   "outputs": [
    {
     "name": "stdout",
     "output_type": "stream",
     "text": [
      "Tests Passed\n"
     ]
    }
   ],
   "source": [
    "def get_tensors(loaded_graph):\n",
    "    \"\"\"\n",
    "    Get input, initial state, final state, and probabilities tensor from <loaded_graph>\n",
    "    :param loaded_graph: TensorFlow graph loaded from file\n",
    "    :return: Tuple (InputTensor, InitialStateTensor, FinalStateTensor, ProbsTensor)\n",
    "    \"\"\"\n",
    "    # TODO: Implement Function\n",
    "    input_ = loaded_graph.get_tensor_by_name('input:0')\n",
    "    initial_state = loaded_graph.get_tensor_by_name('initial_state:0')\n",
    "    final_state = loaded_graph.get_tensor_by_name('final_state:0')\n",
    "    probs = loaded_graph.get_tensor_by_name('probs:0')\n",
    "    return input_, initial_state, final_state, probs\n",
    "\n",
    "\n",
    "\"\"\"\n",
    "DON'T MODIFY ANYTHING IN THIS CELL THAT IS BELOW THIS LINE\n",
    "\"\"\"\n",
    "tests.test_get_tensors(get_tensors)"
   ]
  },
  {
   "cell_type": "markdown",
   "metadata": {
    "deletable": true,
    "editable": true
   },
   "source": [
    "### Choose Word\n",
    "Implement the `pick_word()` function to select the next word using `probabilities`."
   ]
  },
  {
   "cell_type": "code",
   "execution_count": 25,
   "metadata": {
    "collapsed": false,
    "deletable": true,
    "editable": true
   },
   "outputs": [
    {
     "name": "stdout",
     "output_type": "stream",
     "text": [
      "Tests Passed\n"
     ]
    }
   ],
   "source": [
    "def pick_word(probabilities, int_to_vocab):\n",
    "    \"\"\"\n",
    "    Pick the next word in the generated text\n",
    "    :param probabilities: Probabilites of the next word\n",
    "    :param int_to_vocab: Dictionary of word ids as the keys and words as the values\n",
    "    :return: String of the predicted word\n",
    "    \"\"\"\n",
    "    # TODO: Implement Function\n",
    "    id = np.argmax(probabilities)\n",
    "    word = int_to_vocab[id]\n",
    "    return word\n",
    "\n",
    "\n",
    "\"\"\"\n",
    "DON'T MODIFY ANYTHING IN THIS CELL THAT IS BELOW THIS LINE\n",
    "\"\"\"\n",
    "tests.test_pick_word(pick_word)"
   ]
  },
  {
   "cell_type": "markdown",
   "metadata": {
    "deletable": true,
    "editable": true
   },
   "source": [
    "## Generate TV Script\n",
    "This will generate the TV script for you.  Set `gen_length` to the length of TV script you want to generate."
   ]
  },
  {
   "cell_type": "code",
   "execution_count": 26,
   "metadata": {
    "collapsed": false,
    "deletable": true,
    "editable": true
   },
   "outputs": [
    {
     "name": "stdout",
     "output_type": "stream",
     "text": [
      "moe_szyslak: power off, einstein.\n",
      "moe_szyslak: so whaddaya want here? uh, appendectomy, lipo, or(excited, selling) the\" sampler\"? that's very popular.\n",
      "homer_simpson:(dramatically) i want you to stick this crayon into my brain.\n",
      "moe_szyslak: no problem.(art carney arm flourish) the ol' crayola oblongata.\n",
      "moe_szyslak: all right, tell me when i hit the sweet spot.\n",
      "homer_simpson: deeper, you pusillanimous pilsner-pusher.\n",
      "moe_szyslak: all right, all right.\n",
      "homer_simpson:(inanely) oh, moe, they're dead! and it's all my fault!\n",
      "homer_simpson: when did that happen?\n",
      "\n",
      "\n",
      "homer_simpson: i hit my head, moe.\n",
      "moe_szyslak: one beer, comin' up.\n",
      "moe_szyslak: hey, hey. no kids in the bar.\n",
      "homer_simpson: since when?\n",
      "moe_szyslak: yeah. now get out there and spread that message to the people!\n",
      "homer_simpson:(tough) okay pretty boy, where's fat tony's fifty bucks?\n",
      "moe_szyslak:(scared) look, all-all-all i got is twenty-five.\n"
     ]
    }
   ],
   "source": [
    "gen_length = 200\n",
    "# homer_simpson, moe_szyslak, or Barney_Gumble\n",
    "prime_word = 'moe_szyslak'\n",
    "\n",
    "\"\"\"\n",
    "DON'T MODIFY ANYTHING IN THIS CELL THAT IS BELOW THIS LINE\n",
    "\"\"\"\n",
    "loaded_graph = tf.Graph()\n",
    "with tf.Session(graph=loaded_graph) as sess:\n",
    "    # Load saved model\n",
    "    loader = tf.train.import_meta_graph(load_dir + '.meta')\n",
    "    loader.restore(sess, load_dir)\n",
    "\n",
    "    # Get Tensors from loaded model\n",
    "    input_text, initial_state, final_state, probs = get_tensors(loaded_graph)\n",
    "\n",
    "    # Sentences generation setup\n",
    "    gen_sentences = [prime_word + ':']\n",
    "    prev_state = sess.run(initial_state, {input_text: np.array([[1]])})\n",
    "\n",
    "    # Generate sentences\n",
    "    for n in range(gen_length):\n",
    "        # Dynamic Input\n",
    "        dyn_input = [[vocab_to_int[word] for word in gen_sentences[-seq_length:]]]\n",
    "        dyn_seq_length = len(dyn_input[0])\n",
    "\n",
    "        # Get Prediction\n",
    "        probabilities, prev_state = sess.run(\n",
    "            [probs, final_state],\n",
    "            {input_text: dyn_input, initial_state: prev_state})\n",
    "        \n",
    "        pred_word = pick_word(probabilities[dyn_seq_length-1], int_to_vocab)\n",
    "\n",
    "        gen_sentences.append(pred_word)\n",
    "    \n",
    "    # Remove tokens\n",
    "    tv_script = ' '.join(gen_sentences)\n",
    "    for key, token in token_dict.items():\n",
    "        ending = ' ' if key in ['\\n', '(', '\"'] else ''\n",
    "        tv_script = tv_script.replace(' ' + token.lower(), key)\n",
    "    tv_script = tv_script.replace('\\n ', '\\n')\n",
    "    tv_script = tv_script.replace('( ', '(')\n",
    "        \n",
    "    print(tv_script)"
   ]
  },
  {
   "cell_type": "markdown",
   "metadata": {
    "deletable": true,
    "editable": true
   },
   "source": [
    "# The TV Script is Nonsensical\n",
    "It's ok if the TV script doesn't make any sense.  We trained on less than a megabyte of text.  In order to get good results, you'll have to use a smaller vocabulary or get more data.  Luckly there's more data!  As we mentioned in the begging of this project, this is a subset of [another dataset](https://www.kaggle.com/wcukierski/the-simpsons-by-the-data).  We didn't have you train on all the data, because that would take too long.  However, you are free to train your neural network on all the data.  After you complete the project, of course.\n",
    "# Submitting This Project\n",
    "When submitting this project, make sure to run all the cells before saving the notebook. Save the notebook file as \"dlnd_tv_script_generation.ipynb\" and save it as a HTML file under \"File\" -> \"Download as\". Include the \"helper.py\" and \"problem_unittests.py\" files in your submission."
   ]
  }
 ],
 "metadata": {
  "kernelspec": {
   "display_name": "Python 3",
   "language": "python",
   "name": "python3"
  },
  "language_info": {
   "codemirror_mode": {
    "name": "ipython",
    "version": 3
   },
   "file_extension": ".py",
   "mimetype": "text/x-python",
   "name": "python",
   "nbconvert_exporter": "python",
   "pygments_lexer": "ipython3",
   "version": "3.5.2"
  },
  "widgets": {
   "state": {},
   "version": "1.1.2"
  }
 },
 "nbformat": 4,
 "nbformat_minor": 1
}
